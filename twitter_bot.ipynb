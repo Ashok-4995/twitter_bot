{
 "cells": [
  {
   "cell_type": "code",
   "execution_count": null,
   "id": "b1cfc6b6",
   "metadata": {},
   "outputs": [],
   "source": [
    "import tweepy\n",
    "import time\n",
    "\n",
    "print(\"Testing The bot\")  # Test\n",
    "\n",
    "api_key = \"enter you token here\"\n",
    "api_secret = \"enter you token here\"\n",
    "bearer_token = r\"enter you token here\"\n",
    "\n",
    "access_token = \"enter you token here\"\n",
    "access_token_secret = \"enter you token here\"\n",
    "\n",
    "client = tweepy.Client(\n",
    "    bearer_token, api_key, api_secret, access_token, access_token_secret\n",
    ")\n",
    "\n",
    "auth = tweepy.OAuth1UserHandler(api_key, api_secret, access_token, access_token_secret)\n",
    "\n",
    "api = tweepy.API(auth)\n",
    "\n",
    "\n",
    "class MyStream(tweepy.StreamingClient):\n",
    "    def on_tweet(self, tweet):  # detects the tweet\n",
    "        print(tweet.text)\n",
    "        time.sleep(0.3)  # to slow up the coming tweets a bit\n",
    "        try:\n",
    "            client.retweet(tweet.id)\n",
    "        except Exception as error:\n",
    "            print(error)\n",
    "\n",
    "\n",
    "stream = MyStream(bearer_token=bearer_token)\n",
    "\n",
    "rule = tweepy.StreamRule(\n",
    "    \"(#Python OR #python OR #programming OR #coding) (-is:retweet -is:reply)\"\n",
    ")  # setting rule on what topics you want to Retweet and not to add replies and retweets. This will only pickup the original tweets, you may wish to add functionalities according to your requirements\n",
    "\n",
    "stream.add_rules(rule)\n",
    "stream.filter()\n",
    "print(\"Your bot is now live!!\")"
   ]
  }
 ],
 "metadata": {
  "kernelspec": {
   "display_name": "Python 3 (ipykernel)",
   "language": "python",
   "name": "python3"
  },
  "language_info": {
   "codemirror_mode": {
    "name": "ipython",
    "version": 3
   },
   "file_extension": ".py",
   "mimetype": "text/x-python",
   "name": "python",
   "nbconvert_exporter": "python",
   "pygments_lexer": "ipython3",
   "version": "3.11.3"
  }
 },
 "nbformat": 4,
 "nbformat_minor": 5
}
